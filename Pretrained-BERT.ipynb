{
 "cells": [
  {
   "attachments": {},
   "cell_type": "markdown",
   "metadata": {
    "id": "bSz5jzj61nHc"
   },
   "source": [
    "# BERT (Updated 1 Feb 2025, Available CUDA)\n",
    "\n",
    "We shall implement BERT.  For this tutorial, you may want to first look at my Transformers tutorial to get a basic understanding of Transformers. \n",
    "\n",
    "For BERT, the main difference is on how we process the datasets, i.e., masking.   Aside from that, the backbone model is still the Transformers."
   ]
  },
  {
   "cell_type": "code",
   "execution_count": 1,
   "metadata": {
    "id": "-8kZmr4ItGUj"
   },
   "outputs": [],
   "source": [
    "import math\n",
    "import re\n",
    "from random import *\n",
    "import numpy as np\n",
    "import torch\n",
    "import torch.nn as nn\n",
    "import torch.optim as optim\n",
    "import torch.nn.functional as F\n",
    "import os"
   ]
  },
  {
   "cell_type": "code",
   "execution_count": 2,
   "metadata": {},
   "outputs": [
    {
     "data": {
      "text/plain": [
       "device(type='cuda')"
      ]
     },
     "execution_count": 2,
     "metadata": {},
     "output_type": "execute_result"
    }
   ],
   "source": [
    "# Set GPU device\n",
    "# os.environ[\"CUDA_VISIBLE_DEVICES\"] = \"2\"\n",
    "\n",
    "# os.environ[\"http_proxy\"] = \"http://192.41.170.23:3128\"\n",
    "# os.environ[\"https_proxy\"] = \"http://192.41.170.23:3128\"\n",
    "device = torch.device(\"cuda\" if torch.cuda.is_available() else \"mps\" if torch.backends.mps.is_available() else \"cpu\")\n",
    "# device = \"cpu\"\n",
    "\n",
    "# make our work comparable if restarted the kernel\n",
    "SEED = 1234\n",
    "torch.manual_seed(SEED)\n",
    "torch.backends.cudnn.deterministic = True\n",
    "\n",
    "# torch.cuda.get_device_name(0)\n",
    "device"
   ]
  },
  {
   "cell_type": "markdown",
   "metadata": {},
   "source": [
    "## 1. Data\n",
    "\n",
    "For simplicity, we shall use very simple data like this."
   ]
  },
  {
   "cell_type": "code",
   "execution_count": 3,
   "metadata": {},
   "outputs": [
    {
     "data": {
      "text/plain": [
       "Dataset({\n",
       "    features: ['id', 'topic', 'question_title', 'question_content', 'best_answer'],\n",
       "    num_rows: 139977\n",
       "})"
      ]
     },
     "execution_count": 3,
     "metadata": {},
     "output_type": "execute_result"
    }
   ],
   "source": [
    "from datasets import load_dataset\n",
    "\n",
    "# Load BookCorpus dataset\n",
    "# The first 1% of `train` split.\n",
    "# dataset = load_dataset(\"bookcorpus\", split=\"train[:1%]\")\n",
    "dataset = load_dataset(\"community-datasets/yahoo_answers_topics\", split=\"train[:10%]\")\n",
    "dataset\n",
    "\n",
    "# remove empty sample from dataset\n",
    "dataset = dataset.filter(lambda x: len(x[\"best_answer\"]) > 0)\n",
    "\n",
    "dataset"
   ]
  },
  {
   "cell_type": "code",
   "execution_count": 4,
   "metadata": {},
   "outputs": [],
   "source": [
    "sentences = dataset[\"best_answer\"]\n",
    "text = [x.lower() for x in sentences]  # lower case\n",
    "# text = [re.sub(\"[.,!?\\\\-]\", \"\", x) for x in text]  # clean all symbols\n",
    "# text = [re.sub(\"\\n\", \" \", x) for x in text]  # replace \\n with space\n",
    "# text = [re.sub(r\"/.*?/\", \" \", x) for x in text]  # replace / any characters or digits / with space\n",
    "# text = [re.sub(\";\", \" \", x) for x in text]  # replace ; with space\n",
    "# text = [re.sub(r\"\\(.*?\\)\", \" \", x) for x in text]  # replace ( any characters ) with space\n",
    "# text = [re.sub(r\"\\[.*?\\]\", \" \", x) for x in text]  # replace ( any characters ) with space\n",
    "# text = [x for x in text if x != \"\"]  # remove empty lines"
   ]
  },
  {
   "cell_type": "code",
   "execution_count": null,
   "metadata": {},
   "outputs": [],
   "source": [
    "for i in range(20):\n",
    "    print(text[randint(0, len(text) - 1)])"
   ]
  },
  {
   "cell_type": "code",
   "execution_count": null,
   "metadata": {},
   "outputs": [],
   "source": [
    "for sentence in text:\n",
    "    print(sentence, \"_____\")\n",
    "    words = sentence.split()\n",
    "    print(words)\n",
    "    break"
   ]
  },
  {
   "attachments": {},
   "cell_type": "markdown",
   "metadata": {},
   "source": [
    "### Making vocabs\n",
    "\n",
    "Before making the vocabs, let's remove all question marks and perios, etc, then turn everything to lowercase, and then simply split the text. "
   ]
  },
  {
   "cell_type": "code",
   "execution_count": 7,
   "metadata": {},
   "outputs": [
    {
     "data": {
      "application/vnd.jupyter.widget-view+json": {
       "model_id": "111c004fa6044cb8a0e9877d84c177ad",
       "version_major": 2,
       "version_minor": 0
      },
      "text/plain": [
       "Creating word2id: 0it [00:00, ?it/s]"
      ]
     },
     "metadata": {},
     "output_type": "display_data"
    },
    {
     "data": {
      "text/plain": [
       "494624"
      ]
     },
     "execution_count": 7,
     "metadata": {},
     "output_type": "execute_result"
    }
   ],
   "source": [
    "from tqdm.auto import tqdm\n",
    "\n",
    "# Combine everything into one to make vocab\n",
    "word_list = list(set(\" \".join(text).split()))\n",
    "word2id = {\"[PAD]\": 0, \"[CLS]\": 1, \"[SEP]\": 2, \"[MASK]\": 3}  # special tokens\n",
    "\n",
    "# Create the word2id in a single pass\n",
    "for i, w in tqdm(enumerate(word_list), desc=\"Creating word2id\"):\n",
    "    word2id[w] = i + 4  # because 0-3 are already occupied\n",
    "\n",
    "# Precompute the id2word mapping (this can be done once after word2id is fully populated)\n",
    "id2word = {v: k for k, v in word2id.items()}\n",
    "vocab_size = len(word2id)\n",
    "vocab_size"
   ]
  },
  {
   "cell_type": "code",
   "execution_count": 8,
   "metadata": {},
   "outputs": [
    {
     "data": {
      "application/vnd.jupyter.widget-view+json": {
       "model_id": "03e6c3d898b843bcb0951aa8d6ee889e",
       "version_major": 2,
       "version_minor": 0
      },
      "text/plain": [
       "Processing sentences:   0%|          | 0/139977 [00:00<?, ?it/s]"
      ]
     },
     "metadata": {},
     "output_type": "display_data"
    }
   ],
   "source": [
    "vocab_size = len(word2id)\n",
    "\n",
    "# List of all tokens for the whole text\n",
    "token_list = []\n",
    "\n",
    "# Process sentences more efficiently\n",
    "for sentence in tqdm(text, desc=\"Processing sentences\"):\n",
    "    token_list.append([word2id[word] for word in sentence.split()])\n",
    "\n",
    "# Now token_list contains the tokenized sentences"
   ]
  },
  {
   "cell_type": "code",
   "execution_count": null,
   "metadata": {},
   "outputs": [],
   "source": [
    "# take a look at sentences\n",
    "sentences[:5]"
   ]
  },
  {
   "cell_type": "code",
   "execution_count": null,
   "metadata": {
    "colab": {
     "base_uri": "https://localhost:8080/"
    },
    "id": "pZ42SFLKtsv_",
    "outputId": "16c28ac8-8349-48ab-f1d3-a9431e658349",
    "scrolled": true
   },
   "outputs": [],
   "source": [
    "# take a look at token_list\n",
    "token_list[:2]"
   ]
  },
  {
   "cell_type": "code",
   "execution_count": 11,
   "metadata": {},
   "outputs": [
    {
     "data": {
      "text/plain": [
       "(139977, 139977)"
      ]
     },
     "execution_count": 11,
     "metadata": {},
     "output_type": "execute_result"
    }
   ],
   "source": [
    "len(sentences), len(token_list)"
   ]
  },
  {
   "cell_type": "code",
   "execution_count": null,
   "metadata": {},
   "outputs": [],
   "source": [
    "# testing one sentence\n",
    "for tokens in token_list[0]:\n",
    "    print(id2word[tokens])"
   ]
  },
  {
   "attachments": {},
   "cell_type": "markdown",
   "metadata": {},
   "source": [
    "## 2. Data loader\n",
    "\n",
    "We gonna make dataloader.  Inside here, we need to make two types of embeddings: **token embedding** and **segment embedding**\n",
    "\n",
    "1. **Token embedding** - Given “The cat is walking. The dog is barking”, we add [CLS] and [SEP] >> “[CLS] the cat is walking [SEP] the dog is barking”. \n",
    "\n",
    "2. **Segment embedding**\n",
    "A segment embedding separates two sentences, i.e., [0 0 0 0 1 1 1 1 ]\n",
    "\n",
    "3. **Masking**\n",
    "As mentioned in the original paper, BERT randomly assigns masks to 15% of the sequence. In this 15%, 80% is replaced with masks, while 10% is replaced with random tokens, and the rest 10% is left as is.  Here we specified `max_pred` \n",
    "\n",
    "4. **Padding**\n",
    "Once we mask, we will add padding. For simplicity, here we padded until some specified `max_len`. \n",
    "\n",
    "Note:  `positive` and `negative` are just simply counts to keep track of the batch size.  `positive` refers to two sentences that are really next to one another."
   ]
  },
  {
   "cell_type": "code",
   "execution_count": 13,
   "metadata": {},
   "outputs": [],
   "source": [
    "batch_size = 2\n",
    "max_mask = 5  # max masked tokens when 15% exceed, it will only be max_pred\n",
    "max_len = 2000  # maximum of length to be padded;"
   ]
  },
  {
   "cell_type": "code",
   "execution_count": 14,
   "metadata": {
    "id": "TtyOOmRntu8w"
   },
   "outputs": [],
   "source": [
    "def make_batch():\n",
    "    batch = []\n",
    "    positive = negative = 0  # count of batch size;  we want to have half batch that are positive pairs (i.e., next sentence pairs)\n",
    "    while positive != batch_size / 2 or negative != batch_size / 2:\n",
    "        # randomly choose two sentence so we can put [SEP]\n",
    "        tokens_a_index, tokens_b_index = randrange(len(sentences)), randrange(len(sentences))\n",
    "        # retrieve the two sentences\n",
    "        tokens_a, tokens_b = token_list[tokens_a_index], token_list[tokens_b_index]\n",
    "\n",
    "        # 1. token embedding - append CLS and SEP\n",
    "        input_ids = [word2id[\"[CLS]\"]] + tokens_a + [word2id[\"[SEP]\"]] + tokens_b + [word2id[\"[SEP]\"]]\n",
    "\n",
    "        # 2. segment embedding - [0, 0, 0, 0, 0, 0, 0, 0, 0, 0, 1, 1, 1, 1, 1, 1, 1, 1]\n",
    "        segment_ids = [0] * (1 + len(tokens_a) + 1) + [1] * (len(tokens_b) + 1)\n",
    "\n",
    "        # 3. mask language modeling\n",
    "        # masked 15%, but should be at least 1 but does not exceed max_mask\n",
    "        n_pred = min(max_mask, max(1, int(round(len(input_ids) * 0.15))))\n",
    "        # get the pos that excludes CLS and SEP and shuffle them\n",
    "        cand_maked_pos = [i for i, token in enumerate(input_ids) if token != word2id[\"[CLS]\"] and token != word2id[\"[SEP]\"]]\n",
    "        shuffle(cand_maked_pos)\n",
    "        masked_tokens, masked_pos = [], []\n",
    "        # simply loop and change the input_ids to [MASK]\n",
    "        for pos in cand_maked_pos[:n_pred]:\n",
    "            masked_pos.append(pos)  # remember the position\n",
    "            masked_tokens.append(input_ids[pos])  # remember the tokens\n",
    "            # 80% replace with a [MASK], but 10% will replace with a random token\n",
    "            if random() < 0.1:  # 10%\n",
    "                index = randint(0, vocab_size - 1)  # random index in vocabulary\n",
    "                input_ids[pos] = word2id[id2word[index]]  # replace\n",
    "            elif random() < 0.9:  # 80%\n",
    "                input_ids[pos] = word2id[\"[MASK]\"]  # make mask\n",
    "            else:  # 10% do nothing\n",
    "                pass\n",
    "\n",
    "        # pad the input_ids and segment ids until the max len\n",
    "        n_pad = max_len - len(input_ids)\n",
    "        input_ids.extend([0] * n_pad)\n",
    "        segment_ids.extend([0] * n_pad)\n",
    "\n",
    "        # pad the masked_tokens and masked_pos to make sure the lenth is max_mask\n",
    "        if max_mask > n_pred:\n",
    "            n_pad = max_mask - n_pred\n",
    "            masked_tokens.extend([0] * n_pad)\n",
    "            masked_pos.extend([0] * n_pad)\n",
    "\n",
    "        # check if first sentence is really comes before the second sentence\n",
    "        # also make sure positive is exactly half the batch size\n",
    "        if tokens_a_index + 1 == tokens_b_index and positive < batch_size / 2:\n",
    "            batch.append([input_ids, segment_ids, masked_tokens, masked_pos, True])  # IsNext\n",
    "            positive += 1\n",
    "        elif tokens_a_index + 1 != tokens_b_index and negative < batch_size / 2:\n",
    "            batch.append([input_ids, segment_ids, masked_tokens, masked_pos, False])  # NotNext\n",
    "            negative += 1\n",
    "\n",
    "    return batch"
   ]
  },
  {
   "cell_type": "code",
   "execution_count": 15,
   "metadata": {
    "id": "Q7_HC-Y0jC3K"
   },
   "outputs": [],
   "source": [
    "batch = make_batch()"
   ]
  },
  {
   "cell_type": "code",
   "execution_count": 16,
   "metadata": {},
   "outputs": [
    {
     "data": {
      "text/plain": [
       "2"
      ]
     },
     "execution_count": 16,
     "metadata": {},
     "output_type": "execute_result"
    }
   ],
   "source": [
    "# len of batch\n",
    "len(batch)"
   ]
  },
  {
   "cell_type": "code",
   "execution_count": 17,
   "metadata": {},
   "outputs": [
    {
     "data": {
      "text/plain": [
       "(torch.Size([2, 2000]),\n",
       " torch.Size([2, 2000]),\n",
       " torch.Size([2, 5]),\n",
       " torch.Size([2, 5]),\n",
       " torch.Size([2]))"
      ]
     },
     "execution_count": 17,
     "metadata": {},
     "output_type": "execute_result"
    }
   ],
   "source": [
    "# we can deconstruct using map and zip\n",
    "input_ids, segment_ids, masked_tokens, masked_pos, isNext = map(torch.LongTensor, zip(*batch))\n",
    "input_ids.shape, segment_ids.shape, masked_tokens.shape, masked_pos.shape, isNext.shape"
   ]
  },
  {
   "attachments": {},
   "cell_type": "markdown",
   "metadata": {},
   "source": [
    "## 3. Model\n",
    "\n",
    "Recall that BERT only uses the encoder.\n",
    "\n",
    "BERT has the following components:\n",
    "\n",
    "- Embedding layers\n",
    "- Attention Mask\n",
    "- Encoder layer\n",
    "- Multi-head attention\n",
    "- Scaled dot product attention\n",
    "- Position-wise feed-forward network\n",
    "- BERT (assembling all the components)"
   ]
  },
  {
   "attachments": {},
   "cell_type": "markdown",
   "metadata": {},
   "source": [
    "## 3.1 Embedding\n",
    "\n",
    "Here we simply generate the positional embedding, and sum the token embedding, positional embedding, and segment embedding together."
   ]
  },
  {
   "cell_type": "code",
   "execution_count": 18,
   "metadata": {},
   "outputs": [],
   "source": [
    "class Embedding(nn.Module):\n",
    "    def __init__(self, vocab_size, max_len, n_segments, d_model, device):\n",
    "        super(Embedding, self).__init__()\n",
    "        self.tok_embed = nn.Embedding(vocab_size, d_model)  # token embedding\n",
    "        self.pos_embed = nn.Embedding(max_len, d_model)  # position embedding\n",
    "        self.seg_embed = nn.Embedding(n_segments, d_model)  # segment(token type) embedding\n",
    "        self.norm = nn.LayerNorm(d_model)\n",
    "        self.device = device\n",
    "\n",
    "    def forward(self, x, seg):\n",
    "        # x, seg: (bs, len)\n",
    "        seq_len = x.size(1)\n",
    "        pos = torch.arange(seq_len, dtype=torch.long).to(self.device)\n",
    "        pos = pos.unsqueeze(0).expand_as(x)  # (len,) -> (bs, len)\n",
    "        embedding = self.tok_embed(x) + self.pos_embed(pos) + self.seg_embed(seg)\n",
    "        return self.norm(embedding)"
   ]
  },
  {
   "cell_type": "markdown",
   "metadata": {},
   "source": [
    "## 3.2 Attention mask"
   ]
  },
  {
   "cell_type": "code",
   "execution_count": 19,
   "metadata": {
    "id": "s1PGksqBNuZM"
   },
   "outputs": [],
   "source": [
    "def get_attn_pad_mask(seq_q, seq_k, device):\n",
    "    batch_size, len_q = seq_q.size()\n",
    "    batch_size, len_k = seq_k.size()\n",
    "    # eq(zero) is PAD token\n",
    "    pad_attn_mask = seq_k.data.eq(0).unsqueeze(1).to(device)  # batch_size x 1 x len_k(=len_q), one is masking\n",
    "    return pad_attn_mask.expand(batch_size, len_q, len_k)  # batch_size x len_q x len_k"
   ]
  },
  {
   "cell_type": "markdown",
   "metadata": {},
   "source": [
    "### Testing the attention mask"
   ]
  },
  {
   "cell_type": "code",
   "execution_count": 20,
   "metadata": {},
   "outputs": [
    {
     "name": "stdout",
     "output_type": "stream",
     "text": [
      "torch.Size([2, 2000, 2000])\n"
     ]
    }
   ],
   "source": [
    "print(get_attn_pad_mask(input_ids, input_ids, device).shape)"
   ]
  },
  {
   "attachments": {},
   "cell_type": "markdown",
   "metadata": {},
   "source": [
    "## 3.3 Encoder\n",
    "\n",
    "The encoder has two main components: \n",
    "\n",
    "- Multi-head Attention\n",
    "- Position-wise feed-forward network\n",
    "\n",
    "First let's make the wrapper called `EncoderLayer`"
   ]
  },
  {
   "cell_type": "code",
   "execution_count": 21,
   "metadata": {},
   "outputs": [],
   "source": [
    "class EncoderLayer(nn.Module):\n",
    "    def __init__(self, n_heads, d_model, d_ff, d_k, device):\n",
    "        super(EncoderLayer, self).__init__()\n",
    "        self.enc_self_attn = MultiHeadAttention(n_heads, d_model, d_k, device)\n",
    "        self.pos_ffn = PoswiseFeedForwardNet(d_model, d_ff)\n",
    "\n",
    "    def forward(self, enc_inputs, enc_self_attn_mask):\n",
    "        enc_outputs, attn = self.enc_self_attn(enc_inputs, enc_inputs, enc_inputs, enc_self_attn_mask)  # enc_inputs to same Q,K,V\n",
    "        enc_outputs = self.pos_ffn(enc_outputs)  # enc_outputs: [batch_size x len_q x d_model]\n",
    "        return enc_outputs, attn"
   ]
  },
  {
   "cell_type": "markdown",
   "metadata": {},
   "source": [
    "Let's define the scaled dot attention, to be used inside the multihead attention"
   ]
  },
  {
   "cell_type": "code",
   "execution_count": 22,
   "metadata": {},
   "outputs": [],
   "source": [
    "class ScaledDotProductAttention(nn.Module):\n",
    "    def __init__(self, d_k, device):\n",
    "        super(ScaledDotProductAttention, self).__init__()\n",
    "        self.scale = torch.sqrt(torch.FloatTensor([d_k])).to(device)\n",
    "\n",
    "    def forward(self, Q, K, V, attn_mask):\n",
    "        scores = torch.matmul(Q, K.transpose(-1, -2)) / self.scale  # scores : [batch_size x n_heads x len_q(=len_k) x len_k(=len_q)]\n",
    "        scores.masked_fill_(attn_mask, -1e9)  # Fills elements of self tensor with value where mask is one.\n",
    "        attn = nn.Softmax(dim=-1)(scores)\n",
    "        context = torch.matmul(attn, V)\n",
    "        return context, attn"
   ]
  },
  {
   "cell_type": "markdown",
   "metadata": {},
   "source": [
    "Let's define the parameters first"
   ]
  },
  {
   "cell_type": "code",
   "execution_count": 23,
   "metadata": {},
   "outputs": [],
   "source": [
    "n_layers = 6  # number of Encoder of Encoder Layer\n",
    "n_heads = 8  # number of heads in Multi-Head Attention\n",
    "d_model = 768  # Embedding Size\n",
    "d_ff = 768 * 4  # 4*d_model, FeedForward dimension\n",
    "d_k = d_v = 64  # dimension of K(=Q), V\n",
    "n_segments = 2"
   ]
  },
  {
   "cell_type": "markdown",
   "metadata": {},
   "source": [
    "Here is the Multiheadattention."
   ]
  },
  {
   "cell_type": "code",
   "execution_count": 24,
   "metadata": {},
   "outputs": [],
   "source": [
    "class MultiHeadAttention(nn.Module):\n",
    "    def __init__(self, n_heads, d_model, d_k, device):\n",
    "        super(MultiHeadAttention, self).__init__()\n",
    "        self.n_heads = n_heads\n",
    "        self.d_model = d_model\n",
    "        self.d_k = d_k\n",
    "        self.d_v = d_k\n",
    "        self.W_Q = nn.Linear(d_model, d_k * n_heads)\n",
    "        self.W_K = nn.Linear(d_model, d_k * n_heads)\n",
    "        self.W_V = nn.Linear(d_model, self.d_v * n_heads)\n",
    "        self.device = device\n",
    "\n",
    "    def forward(self, Q, K, V, attn_mask):\n",
    "        # q: [batch_size x len_q x d_model], k: [batch_size x len_k x d_model], v: [batch_size x len_k x d_model]\n",
    "        residual, batch_size = Q, Q.size(0)\n",
    "        # (B, S, D) -proj-> (B, S, D) -split-> (B, S, H, W) -trans-> (B, H, S, W)\n",
    "        q_s = self.W_Q(Q).view(batch_size, -1, self.n_heads, self.d_k).transpose(1, 2)  # q_s: [batch_size x n_heads x len_q x d_k]\n",
    "        k_s = self.W_K(K).view(batch_size, -1, self.n_heads, self.d_k).transpose(1, 2)  # k_s: [batch_size x n_heads x len_k x d_k]\n",
    "        v_s = self.W_V(V).view(batch_size, -1, self.n_heads, self.d_v).transpose(1, 2)  # v_s: [batch_size x n_heads x len_k x d_v]\n",
    "\n",
    "        attn_mask = attn_mask.unsqueeze(1).repeat(1, self.n_heads, 1, 1)  # attn_mask : [batch_size x n_heads x len_q x len_k]\n",
    "\n",
    "        # context: [batch_size x n_heads x len_q x d_v], attn: [batch_size x n_heads x len_q(=len_k) x len_k(=len_q)]\n",
    "        context, attn = ScaledDotProductAttention(self.d_k, self.device)(q_s, k_s, v_s, attn_mask)\n",
    "        context = context.transpose(1, 2).contiguous().view(batch_size, -1, self.n_heads * self.d_v)  # context: [batch_size x len_q x n_heads * d_v]\n",
    "        output = nn.Linear(self.n_heads * self.d_v, self.d_model, device=self.device)(context)\n",
    "        return nn.LayerNorm(self.d_model, device=self.device)(output + residual), attn  # output: [batch_size x len_q x d_model]"
   ]
  },
  {
   "attachments": {},
   "cell_type": "markdown",
   "metadata": {},
   "source": [
    "Here is the PoswiseFeedForwardNet."
   ]
  },
  {
   "cell_type": "code",
   "execution_count": 25,
   "metadata": {},
   "outputs": [],
   "source": [
    "class PoswiseFeedForwardNet(nn.Module):\n",
    "    def __init__(self, d_model, d_ff):\n",
    "        super(PoswiseFeedForwardNet, self).__init__()\n",
    "        self.fc1 = nn.Linear(d_model, d_ff)\n",
    "        self.fc2 = nn.Linear(d_ff, d_model)\n",
    "\n",
    "    def forward(self, x):\n",
    "        # (batch_size, len_seq, d_model) -> (batch_size, len_seq, d_ff) -> (batch_size, len_seq, d_model)\n",
    "        return self.fc2(F.gelu(self.fc1(x)))"
   ]
  },
  {
   "cell_type": "markdown",
   "metadata": {},
   "source": [
    "## 3.4 Putting them together"
   ]
  },
  {
   "cell_type": "code",
   "execution_count": 26,
   "metadata": {
    "id": "OZ0TJ84W4SZw"
   },
   "outputs": [],
   "source": [
    "class BERT(nn.Module):\n",
    "    def __init__(self, n_layers, n_heads, d_model, d_ff, d_k, n_segments, vocab_size, max_len, device):\n",
    "        super(BERT, self).__init__()\n",
    "        self.params = {\n",
    "            \"n_layers\": n_layers,\n",
    "            \"n_heads\": n_heads,\n",
    "            \"d_model\": d_model,\n",
    "            \"d_ff\": d_ff,\n",
    "            \"d_k\": d_k,\n",
    "            \"n_segments\": n_segments,\n",
    "            \"vocab_size\": vocab_size,\n",
    "            \"max_len\": max_len,\n",
    "        }\n",
    "        self.embedding = Embedding(vocab_size, max_len, n_segments, d_model, device)\n",
    "        self.layers = nn.ModuleList([EncoderLayer(n_heads, d_model, d_ff, d_k, device) for _ in range(n_layers)])\n",
    "        self.fc = nn.Linear(d_model, d_model)\n",
    "        self.activ = nn.Tanh()\n",
    "        self.linear = nn.Linear(d_model, d_model)\n",
    "        self.norm = nn.LayerNorm(d_model)\n",
    "        self.classifier = nn.Linear(d_model, 2)\n",
    "        # decoder is shared with embedding layer\n",
    "        embed_weight = self.embedding.tok_embed.weight\n",
    "        n_vocab, n_dim = embed_weight.size()\n",
    "        self.decoder = nn.Linear(n_dim, n_vocab, bias=False)\n",
    "        self.decoder.weight = embed_weight\n",
    "        self.decoder_bias = nn.Parameter(torch.zeros(n_vocab))\n",
    "        self.device = device\n",
    "\n",
    "    def forward(self, input_ids, segment_ids, masked_pos):\n",
    "        output = self.embedding(input_ids, segment_ids)\n",
    "        enc_self_attn_mask = get_attn_pad_mask(input_ids, input_ids, self.device)\n",
    "        for layer in self.layers:\n",
    "            output, enc_self_attn = layer(output, enc_self_attn_mask)\n",
    "        # output : [batch_size, len, d_model], attn : [batch_size, n_heads, d_mode, d_model]\n",
    "\n",
    "        # 1. predict next sentence\n",
    "        # it will be decided by first token(CLS)\n",
    "        h_pooled = self.activ(self.fc(output[:, 0]))  # [batch_size, d_model]\n",
    "        logits_nsp = self.classifier(h_pooled)  # [batch_size, 2]\n",
    "\n",
    "        # 2. predict the masked token\n",
    "        masked_pos = masked_pos[:, :, None].expand(-1, -1, output.size(-1))  # [batch_size, max_pred, d_model]\n",
    "        h_masked = torch.gather(output, 1, masked_pos)  # masking position [batch_size, max_pred, d_model]\n",
    "        h_masked = self.norm(F.gelu(self.linear(h_masked)))\n",
    "        logits_lm = self.decoder(h_masked) + self.decoder_bias  # [batch_size, max_pred, n_vocab]\n",
    "\n",
    "        return logits_lm, logits_nsp\n",
    "\n",
    "    def get_last_hidden_state(self, input_ids, segment_ids):\n",
    "        output = self.embedding(input_ids, segment_ids)\n",
    "        enc_self_attn_mask = get_attn_pad_mask(input_ids, input_ids, self.device)\n",
    "        for layer in self.layers:\n",
    "            output, enc_self_attn = layer(output, enc_self_attn_mask)\n",
    "\n",
    "        return output"
   ]
  },
  {
   "attachments": {},
   "cell_type": "markdown",
   "metadata": {},
   "source": [
    "## 4. Training"
   ]
  },
  {
   "cell_type": "code",
   "execution_count": 27,
   "metadata": {},
   "outputs": [],
   "source": [
    "from tqdm.auto import tqdm\n",
    "\n",
    "n_layers = 12  # number of Encoder of Encoder Layer\n",
    "n_heads = 12  # number of heads in Multi-Head Attention\n",
    "d_model = 768  # Embedding Size\n",
    "d_ff = d_model * 4  # 4*d_model, FeedForward dimension\n",
    "d_k = d_v = 64  # dimension of K(=Q), V\n",
    "n_segments = 2\n",
    "\n",
    "num_epoch = 1000\n",
    "model = BERT(n_layers, n_heads, d_model, d_ff, d_k, n_segments, vocab_size, max_len, device).to(device)  # Move model to GPU"
   ]
  },
  {
   "cell_type": "code",
   "execution_count": 28,
   "metadata": {},
   "outputs": [],
   "source": [
    "criterion = nn.CrossEntropyLoss()\n",
    "optimizer = optim.Adam(model.parameters(), lr=0.001)"
   ]
  },
  {
   "cell_type": "code",
   "execution_count": 29,
   "metadata": {
    "colab": {
     "base_uri": "https://localhost:8080/"
    },
    "id": "8UAG3SEP4UbU",
    "outputId": "bc6f202f-df37-4fac-843c-fb86bdb777b2"
   },
   "outputs": [
    {
     "data": {
      "application/vnd.jupyter.widget-view+json": {
       "model_id": "e102ccca6f8d47edb27a4c13e9d8d640",
       "version_major": 2,
       "version_minor": 0
      },
      "text/plain": [
       "Training Epochs:   0%|          | 0/1000 [00:00<?, ?it/s]"
      ]
     },
     "metadata": {},
     "output_type": "display_data"
    },
    {
     "name": "stdout",
     "output_type": "stream",
     "text": [
      "Epoch: 001 loss = 121.655487\n",
      "Epoch: 101 loss = 3.191157\n",
      "Epoch: 201 loss = 3.324037\n",
      "Epoch: 301 loss = 2.966209\n",
      "Epoch: 401 loss = 2.917154\n",
      "Epoch: 501 loss = 2.878397\n",
      "Epoch: 601 loss = 2.874698\n",
      "Epoch: 701 loss = 2.916989\n",
      "Epoch: 801 loss = 2.895425\n",
      "Epoch: 901 loss = 2.864347\n",
      "\n",
      "Time elapsed: 1833.52s\n"
     ]
    }
   ],
   "source": [
    "import time\n",
    "\n",
    "\n",
    "batch = make_batch()\n",
    "input_ids, segment_ids, masked_tokens, masked_pos, isNext = map(torch.LongTensor, zip(*batch))\n",
    "\n",
    "# Move inputs to GPU\n",
    "input_ids = input_ids.to(device)\n",
    "segment_ids = segment_ids.to(device)\n",
    "masked_tokens = masked_tokens.to(device)\n",
    "masked_pos = masked_pos.to(device)\n",
    "isNext = isNext.to(device)\n",
    "\n",
    "torch.cuda.empty_cache()\n",
    "\n",
    "start_time = time.time()\n",
    "\n",
    "# Wrap the epoch loop with tqdm\n",
    "for epoch in tqdm(range(num_epoch), desc=\"Training Epochs\"):\n",
    "    optimizer.zero_grad()\n",
    "    logits_lm, logits_nsp = model(input_ids, segment_ids, masked_pos)\n",
    "    # logits_lm: (bs, max_mask, vocab_size) ==> (6, 5, 34)\n",
    "    # logits_nsp: (bs, yes/no) ==> (6, 2)\n",
    "\n",
    "    # 1. mlm loss\n",
    "    # logits_lm.transpose: (bs, vocab_size, max_mask) vs. masked_tokens: (bs, max_mask)\n",
    "    loss_lm = criterion(logits_lm.transpose(1, 2), masked_tokens)  # for masked LM\n",
    "    loss_lm = (loss_lm.float()).mean()\n",
    "    # 2. nsp loss\n",
    "    # logits_nsp: (bs, 2) vs. isNext: (bs, )\n",
    "    loss_nsp = criterion(logits_nsp, isNext)  # for sentence classification\n",
    "\n",
    "    # 3. combine loss\n",
    "    loss = loss_lm + loss_nsp\n",
    "    if epoch % 100 == 0:\n",
    "        print(\"Epoch:\", \"%03d\" % (epoch + 1), \"loss =\", \"{:.6f}\".format(loss))\n",
    "    loss.backward()\n",
    "    optimizer.step()\n",
    "\n",
    "print(\"\\nTime elapsed: {:.2f}s\".format(time.time() - start_time))"
   ]
  },
  {
   "cell_type": "code",
   "execution_count": 30,
   "metadata": {},
   "outputs": [
    {
     "name": "stdout",
     "output_type": "stream",
     "text": [
      "Model saved\n"
     ]
    }
   ],
   "source": [
    "# Save the model after training\n",
    "# torch.save(model.state_dict(), \"bert_model_1%.pth\")\n",
    "torch.save(model.state_dict(), \"bert_only_weights.pth\")\n",
    "print(\"Model saved\")"
   ]
  },
  {
   "cell_type": "code",
   "execution_count": 31,
   "metadata": {},
   "outputs": [
    {
     "data": {
      "text/plain": [
       "BERT(\n",
       "  (embedding): Embedding(\n",
       "    (tok_embed): Embedding(494624, 768)\n",
       "    (pos_embed): Embedding(2000, 768)\n",
       "    (seg_embed): Embedding(2, 768)\n",
       "    (norm): LayerNorm((768,), eps=1e-05, elementwise_affine=True)\n",
       "  )\n",
       "  (layers): ModuleList(\n",
       "    (0-11): 12 x EncoderLayer(\n",
       "      (enc_self_attn): MultiHeadAttention(\n",
       "        (W_Q): Linear(in_features=768, out_features=768, bias=True)\n",
       "        (W_K): Linear(in_features=768, out_features=768, bias=True)\n",
       "        (W_V): Linear(in_features=768, out_features=768, bias=True)\n",
       "      )\n",
       "      (pos_ffn): PoswiseFeedForwardNet(\n",
       "        (fc1): Linear(in_features=768, out_features=3072, bias=True)\n",
       "        (fc2): Linear(in_features=3072, out_features=768, bias=True)\n",
       "      )\n",
       "    )\n",
       "  )\n",
       "  (fc): Linear(in_features=768, out_features=768, bias=True)\n",
       "  (activ): Tanh()\n",
       "  (linear): Linear(in_features=768, out_features=768, bias=True)\n",
       "  (norm): LayerNorm((768,), eps=1e-05, elementwise_affine=True)\n",
       "  (classifier): Linear(in_features=768, out_features=2, bias=True)\n",
       "  (decoder): Linear(in_features=768, out_features=494624, bias=False)\n",
       ")"
      ]
     },
     "execution_count": 31,
     "metadata": {},
     "output_type": "execute_result"
    }
   ],
   "source": [
    "# Load the model\n",
    "model = BERT(n_layers, n_heads, d_model, d_ff, d_k, n_segments, vocab_size, max_len, device).to(device)\n",
    "model.load_state_dict(torch.load(\"bert_only_weights.pth\", map_location=device))\n",
    "model.eval()  # set the model to inference mode"
   ]
  },
  {
   "cell_type": "code",
   "execution_count": 32,
   "metadata": {},
   "outputs": [
    {
     "name": "stdout",
     "output_type": "stream",
     "text": [
      "decoder_bias torch.Size([494624])\n",
      "embedding.tok_embed.weight torch.Size([494624, 768])\n",
      "embedding.pos_embed.weight torch.Size([2000, 768])\n",
      "embedding.seg_embed.weight torch.Size([2, 768])\n",
      "embedding.norm.weight torch.Size([768])\n",
      "embedding.norm.bias torch.Size([768])\n",
      "layers.0.enc_self_attn.W_Q.weight torch.Size([768, 768])\n",
      "layers.0.enc_self_attn.W_Q.bias torch.Size([768])\n",
      "layers.0.enc_self_attn.W_K.weight torch.Size([768, 768])\n",
      "layers.0.enc_self_attn.W_K.bias torch.Size([768])\n",
      "layers.0.enc_self_attn.W_V.weight torch.Size([768, 768])\n",
      "layers.0.enc_self_attn.W_V.bias torch.Size([768])\n",
      "layers.0.pos_ffn.fc1.weight torch.Size([3072, 768])\n",
      "layers.0.pos_ffn.fc1.bias torch.Size([3072])\n",
      "layers.0.pos_ffn.fc2.weight torch.Size([768, 3072])\n",
      "layers.0.pos_ffn.fc2.bias torch.Size([768])\n",
      "layers.1.enc_self_attn.W_Q.weight torch.Size([768, 768])\n",
      "layers.1.enc_self_attn.W_Q.bias torch.Size([768])\n",
      "layers.1.enc_self_attn.W_K.weight torch.Size([768, 768])\n",
      "layers.1.enc_self_attn.W_K.bias torch.Size([768])\n",
      "layers.1.enc_self_attn.W_V.weight torch.Size([768, 768])\n",
      "layers.1.enc_self_attn.W_V.bias torch.Size([768])\n",
      "layers.1.pos_ffn.fc1.weight torch.Size([3072, 768])\n",
      "layers.1.pos_ffn.fc1.bias torch.Size([3072])\n",
      "layers.1.pos_ffn.fc2.weight torch.Size([768, 3072])\n",
      "layers.1.pos_ffn.fc2.bias torch.Size([768])\n",
      "layers.2.enc_self_attn.W_Q.weight torch.Size([768, 768])\n",
      "layers.2.enc_self_attn.W_Q.bias torch.Size([768])\n",
      "layers.2.enc_self_attn.W_K.weight torch.Size([768, 768])\n",
      "layers.2.enc_self_attn.W_K.bias torch.Size([768])\n",
      "layers.2.enc_self_attn.W_V.weight torch.Size([768, 768])\n",
      "layers.2.enc_self_attn.W_V.bias torch.Size([768])\n",
      "layers.2.pos_ffn.fc1.weight torch.Size([3072, 768])\n",
      "layers.2.pos_ffn.fc1.bias torch.Size([3072])\n",
      "layers.2.pos_ffn.fc2.weight torch.Size([768, 3072])\n",
      "layers.2.pos_ffn.fc2.bias torch.Size([768])\n",
      "layers.3.enc_self_attn.W_Q.weight torch.Size([768, 768])\n",
      "layers.3.enc_self_attn.W_Q.bias torch.Size([768])\n",
      "layers.3.enc_self_attn.W_K.weight torch.Size([768, 768])\n",
      "layers.3.enc_self_attn.W_K.bias torch.Size([768])\n",
      "layers.3.enc_self_attn.W_V.weight torch.Size([768, 768])\n",
      "layers.3.enc_self_attn.W_V.bias torch.Size([768])\n",
      "layers.3.pos_ffn.fc1.weight torch.Size([3072, 768])\n",
      "layers.3.pos_ffn.fc1.bias torch.Size([3072])\n",
      "layers.3.pos_ffn.fc2.weight torch.Size([768, 3072])\n",
      "layers.3.pos_ffn.fc2.bias torch.Size([768])\n",
      "layers.4.enc_self_attn.W_Q.weight torch.Size([768, 768])\n",
      "layers.4.enc_self_attn.W_Q.bias torch.Size([768])\n",
      "layers.4.enc_self_attn.W_K.weight torch.Size([768, 768])\n",
      "layers.4.enc_self_attn.W_K.bias torch.Size([768])\n",
      "layers.4.enc_self_attn.W_V.weight torch.Size([768, 768])\n",
      "layers.4.enc_self_attn.W_V.bias torch.Size([768])\n",
      "layers.4.pos_ffn.fc1.weight torch.Size([3072, 768])\n",
      "layers.4.pos_ffn.fc1.bias torch.Size([3072])\n",
      "layers.4.pos_ffn.fc2.weight torch.Size([768, 3072])\n",
      "layers.4.pos_ffn.fc2.bias torch.Size([768])\n",
      "layers.5.enc_self_attn.W_Q.weight torch.Size([768, 768])\n",
      "layers.5.enc_self_attn.W_Q.bias torch.Size([768])\n",
      "layers.5.enc_self_attn.W_K.weight torch.Size([768, 768])\n",
      "layers.5.enc_self_attn.W_K.bias torch.Size([768])\n",
      "layers.5.enc_self_attn.W_V.weight torch.Size([768, 768])\n",
      "layers.5.enc_self_attn.W_V.bias torch.Size([768])\n",
      "layers.5.pos_ffn.fc1.weight torch.Size([3072, 768])\n",
      "layers.5.pos_ffn.fc1.bias torch.Size([3072])\n",
      "layers.5.pos_ffn.fc2.weight torch.Size([768, 3072])\n",
      "layers.5.pos_ffn.fc2.bias torch.Size([768])\n",
      "layers.6.enc_self_attn.W_Q.weight torch.Size([768, 768])\n",
      "layers.6.enc_self_attn.W_Q.bias torch.Size([768])\n",
      "layers.6.enc_self_attn.W_K.weight torch.Size([768, 768])\n",
      "layers.6.enc_self_attn.W_K.bias torch.Size([768])\n",
      "layers.6.enc_self_attn.W_V.weight torch.Size([768, 768])\n",
      "layers.6.enc_self_attn.W_V.bias torch.Size([768])\n",
      "layers.6.pos_ffn.fc1.weight torch.Size([3072, 768])\n",
      "layers.6.pos_ffn.fc1.bias torch.Size([3072])\n",
      "layers.6.pos_ffn.fc2.weight torch.Size([768, 3072])\n",
      "layers.6.pos_ffn.fc2.bias torch.Size([768])\n",
      "layers.7.enc_self_attn.W_Q.weight torch.Size([768, 768])\n",
      "layers.7.enc_self_attn.W_Q.bias torch.Size([768])\n",
      "layers.7.enc_self_attn.W_K.weight torch.Size([768, 768])\n",
      "layers.7.enc_self_attn.W_K.bias torch.Size([768])\n",
      "layers.7.enc_self_attn.W_V.weight torch.Size([768, 768])\n",
      "layers.7.enc_self_attn.W_V.bias torch.Size([768])\n",
      "layers.7.pos_ffn.fc1.weight torch.Size([3072, 768])\n",
      "layers.7.pos_ffn.fc1.bias torch.Size([3072])\n",
      "layers.7.pos_ffn.fc2.weight torch.Size([768, 3072])\n",
      "layers.7.pos_ffn.fc2.bias torch.Size([768])\n",
      "layers.8.enc_self_attn.W_Q.weight torch.Size([768, 768])\n",
      "layers.8.enc_self_attn.W_Q.bias torch.Size([768])\n",
      "layers.8.enc_self_attn.W_K.weight torch.Size([768, 768])\n",
      "layers.8.enc_self_attn.W_K.bias torch.Size([768])\n",
      "layers.8.enc_self_attn.W_V.weight torch.Size([768, 768])\n",
      "layers.8.enc_self_attn.W_V.bias torch.Size([768])\n",
      "layers.8.pos_ffn.fc1.weight torch.Size([3072, 768])\n",
      "layers.8.pos_ffn.fc1.bias torch.Size([3072])\n",
      "layers.8.pos_ffn.fc2.weight torch.Size([768, 3072])\n",
      "layers.8.pos_ffn.fc2.bias torch.Size([768])\n",
      "layers.9.enc_self_attn.W_Q.weight torch.Size([768, 768])\n",
      "layers.9.enc_self_attn.W_Q.bias torch.Size([768])\n",
      "layers.9.enc_self_attn.W_K.weight torch.Size([768, 768])\n",
      "layers.9.enc_self_attn.W_K.bias torch.Size([768])\n",
      "layers.9.enc_self_attn.W_V.weight torch.Size([768, 768])\n",
      "layers.9.enc_self_attn.W_V.bias torch.Size([768])\n",
      "layers.9.pos_ffn.fc1.weight torch.Size([3072, 768])\n",
      "layers.9.pos_ffn.fc1.bias torch.Size([3072])\n",
      "layers.9.pos_ffn.fc2.weight torch.Size([768, 3072])\n",
      "layers.9.pos_ffn.fc2.bias torch.Size([768])\n",
      "layers.10.enc_self_attn.W_Q.weight torch.Size([768, 768])\n",
      "layers.10.enc_self_attn.W_Q.bias torch.Size([768])\n",
      "layers.10.enc_self_attn.W_K.weight torch.Size([768, 768])\n",
      "layers.10.enc_self_attn.W_K.bias torch.Size([768])\n",
      "layers.10.enc_self_attn.W_V.weight torch.Size([768, 768])\n",
      "layers.10.enc_self_attn.W_V.bias torch.Size([768])\n",
      "layers.10.pos_ffn.fc1.weight torch.Size([3072, 768])\n",
      "layers.10.pos_ffn.fc1.bias torch.Size([3072])\n",
      "layers.10.pos_ffn.fc2.weight torch.Size([768, 3072])\n",
      "layers.10.pos_ffn.fc2.bias torch.Size([768])\n",
      "layers.11.enc_self_attn.W_Q.weight torch.Size([768, 768])\n",
      "layers.11.enc_self_attn.W_Q.bias torch.Size([768])\n",
      "layers.11.enc_self_attn.W_K.weight torch.Size([768, 768])\n",
      "layers.11.enc_self_attn.W_K.bias torch.Size([768])\n",
      "layers.11.enc_self_attn.W_V.weight torch.Size([768, 768])\n",
      "layers.11.enc_self_attn.W_V.bias torch.Size([768])\n",
      "layers.11.pos_ffn.fc1.weight torch.Size([3072, 768])\n",
      "layers.11.pos_ffn.fc1.bias torch.Size([3072])\n",
      "layers.11.pos_ffn.fc2.weight torch.Size([768, 3072])\n",
      "layers.11.pos_ffn.fc2.bias torch.Size([768])\n",
      "fc.weight torch.Size([768, 768])\n",
      "fc.bias torch.Size([768])\n",
      "linear.weight torch.Size([768, 768])\n",
      "linear.bias torch.Size([768])\n",
      "norm.weight torch.Size([768])\n",
      "norm.bias torch.Size([768])\n",
      "classifier.weight torch.Size([2, 768])\n",
      "classifier.bias torch.Size([2])\n"
     ]
    }
   ],
   "source": [
    "# print model parameters\n",
    "for param in model.named_parameters():\n",
    "    print(param[0], param[1].size())"
   ]
  },
  {
   "attachments": {},
   "cell_type": "markdown",
   "metadata": {},
   "source": [
    "## 5. Inference\n",
    "\n",
    "Since our dataset is very small, it won't work very well, but just for the sake of demonstration."
   ]
  },
  {
   "cell_type": "code",
   "execution_count": 33,
   "metadata": {},
   "outputs": [
    {
     "data": {
      "text/plain": [
       "2"
      ]
     },
     "execution_count": 33,
     "metadata": {},
     "output_type": "execute_result"
    }
   ],
   "source": [
    "len(batch)"
   ]
  },
  {
   "cell_type": "code",
   "execution_count": 34,
   "metadata": {
    "colab": {
     "base_uri": "https://localhost:8080/"
    },
    "id": "uD3K8T6B4YJp",
    "outputId": "e057405b-1f78-431c-fa71-032a738fb848"
   },
   "outputs": [
    {
     "name": "stdout",
     "output_type": "stream",
     "text": [
      "['[CLS]', 'kuala', 'lumpur', '[SEP]', 'if', 'you', 'have', 'two', '[MASK]', 'that', 'are', '[MASK]', 'sizes,', 'say', 'one', 'is', '2m', 'in', 'diameter', 'and', 'one', 'is', '5m', 'in', 'diameter,', 'and', 'both', 'are', 'traveling', 'at', '10m/s,', 'they', 'will', 'travel', 'at', 'the', 'same', 'speed,', 'but', 'the', 'smaller', 'ball', 'will', 'have', 'a', 'greater', 'number', 'of', 'revolutions', 'per', '[MASK]', 'than', 'the', 'larger', 'ball.', 'so,', 'no,', 'it', 'does', 'not', 'affect', 'speed,', 'but', 'it', '[MASK]', 'affect', 'revolutions', 'per', 'minute', 'or', \"rpm's.\", '[SEP]']\n",
      "masked tokens (words) :  ['different', 'the', 'does', 'balls', 'second']\n",
      "masked tokens list :  [353280, 29715, 245659, 252446, 108674]\n",
      "masked tokens (words) :  ['second', 'second', 'second', 'second', 'second']\n",
      "predict masked tokens list :  [108674, 108674, 108674, 108674, 108674]\n",
      "0\n",
      "isNext :  True\n",
      "predict isNext :  False\n"
     ]
    }
   ],
   "source": [
    "# Predict mask tokens ans isNext\n",
    "input_ids, segment_ids, masked_tokens, masked_pos, isNext = map(torch.LongTensor, zip(batch[1]))\n",
    "print([id2word[w.item()] for w in input_ids[0] if id2word[w.item()] != \"[PAD]\"])\n",
    "input_ids = input_ids.to(device)\n",
    "segment_ids = segment_ids.to(device)\n",
    "masked_tokens = masked_tokens.to(device)\n",
    "masked_pos = masked_pos.to(device)\n",
    "isNext = isNext.to(device)\n",
    "\n",
    "logits_lm, logits_nsp = model(input_ids, segment_ids, masked_pos)\n",
    "# logits_lm:  (1, max_mask, vocab_size) ==> (1, 5, 34)\n",
    "# logits_nsp: (1, yes/no) ==> (1, 2)\n",
    "\n",
    "# predict masked tokens\n",
    "# max the probability along the vocab dim (2), [1] is the indices of the max, and [0] is the first value\n",
    "logits_lm = logits_lm.data.cpu().max(2)[1][0].data.numpy()\n",
    "# note that zero is padding we add to the masked_tokens\n",
    "print(\"masked tokens (words) : \", [id2word[pos.item()] for pos in masked_tokens[0]])\n",
    "print(\"masked tokens list : \", [pos.item() for pos in masked_tokens[0]])\n",
    "print(\"masked tokens (words) : \", [id2word[pos.item()] for pos in logits_lm])\n",
    "print(\"predict masked tokens list : \", [pos for pos in logits_lm])\n",
    "\n",
    "# predict nsp\n",
    "logits_nsp = logits_nsp.cpu().data.max(1)[1][0].data.numpy()\n",
    "print(logits_nsp)\n",
    "print(\"isNext : \", True if isNext else False)\n",
    "print(\"predict isNext : \", True if logits_nsp else False)"
   ]
  },
  {
   "cell_type": "markdown",
   "metadata": {},
   "source": [
    "Trying a bigger dataset should be able to see the difference."
   ]
  }
 ],
 "metadata": {
  "colab": {
   "provenance": []
  },
  "kernelspec": {
   "display_name": ".venv",
   "language": "python",
   "name": "python3"
  },
  "language_info": {
   "codemirror_mode": {
    "name": "ipython",
    "version": 3
   },
   "file_extension": ".py",
   "mimetype": "text/x-python",
   "name": "python",
   "nbconvert_exporter": "python",
   "pygments_lexer": "ipython3",
   "version": "3.9.13"
  }
 },
 "nbformat": 4,
 "nbformat_minor": 4
}
